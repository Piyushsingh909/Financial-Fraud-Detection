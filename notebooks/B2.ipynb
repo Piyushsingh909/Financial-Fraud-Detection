{
 "cells": [
  {
   "cell_type": "markdown",
   "metadata": {},
   "source": [
    "# EDA: Fraud Dataset\n",
    "\n"
   ]
  },
  {
   "cell_type": "code",
   "execution_count": 6,
   "metadata": {},
   "outputs": [
    {
     "name": "stdout",
     "output_type": "stream",
     "text": [
      "Collecting polars\n",
      "  Downloading polars-1.33.1-cp39-abi3-win_amd64.whl.metadata (15 kB)\n",
      "Downloading polars-1.33.1-cp39-abi3-win_amd64.whl (39.5 MB)\n",
      "   ---------------------------------------- 0.0/39.5 MB ? eta -:--:--\n",
      "   ---------------------------------------- 0.0/39.5 MB ? eta -:--:--\n",
      "   ---------------------------------------- 0.3/39.5 MB ? eta -:--:--\n",
      "    --------------------------------------- 0.5/39.5 MB 1.0 MB/s eta 0:00:38\n",
      "    --------------------------------------- 0.8/39.5 MB 1.1 MB/s eta 0:00:37\n",
      "   - -------------------------------------- 1.0/39.5 MB 1.1 MB/s eta 0:00:35\n",
      "   - -------------------------------------- 1.6/39.5 MB 1.3 MB/s eta 0:00:30\n",
      "   -- ------------------------------------- 2.1/39.5 MB 1.5 MB/s eta 0:00:26\n",
      "   -- ------------------------------------- 2.6/39.5 MB 1.6 MB/s eta 0:00:23\n",
      "   -- ------------------------------------- 2.9/39.5 MB 1.7 MB/s eta 0:00:22\n",
      "   --- ------------------------------------ 3.7/39.5 MB 1.8 MB/s eta 0:00:20\n",
      "   ---- ----------------------------------- 4.2/39.5 MB 2.0 MB/s eta 0:00:19\n",
      "   ----- ---------------------------------- 5.2/39.5 MB 2.2 MB/s eta 0:00:16\n",
      "   ------ --------------------------------- 6.3/39.5 MB 2.4 MB/s eta 0:00:14\n",
      "   ------- -------------------------------- 7.1/39.5 MB 2.5 MB/s eta 0:00:14\n",
      "   -------- ------------------------------- 8.1/39.5 MB 2.7 MB/s eta 0:00:12\n",
      "   --------- ------------------------------ 9.2/39.5 MB 2.8 MB/s eta 0:00:11\n",
      "   ---------- ----------------------------- 10.5/39.5 MB 3.0 MB/s eta 0:00:10\n",
      "   ----------- ---------------------------- 11.3/39.5 MB 3.1 MB/s eta 0:00:10\n",
      "   ----------- ---------------------------- 11.5/39.5 MB 3.1 MB/s eta 0:00:10\n",
      "   ------------- -------------------------- 12.8/39.5 MB 3.1 MB/s eta 0:00:09\n",
      "   ------------- -------------------------- 13.6/39.5 MB 3.2 MB/s eta 0:00:09\n",
      "   -------------- ------------------------- 14.2/39.5 MB 3.2 MB/s eta 0:00:08\n",
      "   --------------- ------------------------ 15.2/39.5 MB 3.2 MB/s eta 0:00:08\n",
      "   ---------------- ----------------------- 16.3/39.5 MB 3.3 MB/s eta 0:00:08\n",
      "   ----------------- ---------------------- 17.6/39.5 MB 3.4 MB/s eta 0:00:07\n",
      "   ------------------- -------------------- 19.4/39.5 MB 3.6 MB/s eta 0:00:06\n",
      "   -------------------- ------------------- 20.4/39.5 MB 3.6 MB/s eta 0:00:06\n",
      "   --------------------- ------------------ 21.5/39.5 MB 3.7 MB/s eta 0:00:05\n",
      "   ----------------------- ---------------- 22.8/39.5 MB 3.8 MB/s eta 0:00:05\n",
      "   ------------------------ --------------- 23.9/39.5 MB 3.8 MB/s eta 0:00:05\n",
      "   ------------------------- -------------- 25.4/39.5 MB 3.9 MB/s eta 0:00:04\n",
      "   --------------------------- ------------ 27.0/39.5 MB 4.0 MB/s eta 0:00:04\n",
      "   ---------------------------- ----------- 28.3/39.5 MB 4.1 MB/s eta 0:00:03\n",
      "   ------------------------------ --------- 29.9/39.5 MB 4.2 MB/s eta 0:00:03\n",
      "   ------------------------------- -------- 31.2/39.5 MB 4.3 MB/s eta 0:00:02\n",
      "   -------------------------------- ------- 32.2/39.5 MB 4.3 MB/s eta 0:00:02\n",
      "   --------------------------------- ------ 33.3/39.5 MB 4.3 MB/s eta 0:00:02\n",
      "   ---------------------------------- ----- 34.1/39.5 MB 4.3 MB/s eta 0:00:02\n",
      "   ----------------------------------- ---- 35.1/39.5 MB 4.3 MB/s eta 0:00:02\n",
      "   ------------------------------------ --- 36.2/39.5 MB 4.3 MB/s eta 0:00:01\n",
      "   ------------------------------------- -- 37.2/39.5 MB 4.3 MB/s eta 0:00:01\n",
      "   -------------------------------------- - 38.0/39.5 MB 4.3 MB/s eta 0:00:01\n",
      "   ---------------------------------------  39.3/39.5 MB 4.3 MB/s eta 0:00:01\n",
      "   ---------------------------------------- 39.5/39.5 MB 4.3 MB/s eta 0:00:00\n",
      "Installing collected packages: polars\n",
      "Successfully installed polars-1.33.1\n"
     ]
    }
   ],
   "source": [
    "# EDA: Fraud Dataset\n",
    "!pip install polars"
   ]
  },
  {
   "cell_type": "code",
   "execution_count": 10,
   "metadata": {
    "editable": true,
    "slideshow": {
     "slide_type": ""
    },
    "tags": []
   },
   "outputs": [
    {
     "data": {
      "text/html": [
       "<div><style>\n",
       ".dataframe > thead > tr,\n",
       ".dataframe > tbody > tr {\n",
       "  text-align: right;\n",
       "  white-space: pre-wrap;\n",
       "}\n",
       "</style>\n",
       "<small>shape: (5, 11)</small><table border=\"1\" class=\"dataframe\"><thead><tr><th>step</th><th>type</th><th>amount</th><th>nameOrig</th><th>oldbalanceOrg</th><th>newbalanceOrig</th><th>nameDest</th><th>oldbalanceDest</th><th>newbalanceDest</th><th>isFraud</th><th>isFlaggedFraud</th></tr><tr><td>i64</td><td>str</td><td>f64</td><td>str</td><td>f64</td><td>f64</td><td>str</td><td>f64</td><td>f64</td><td>i64</td><td>i64</td></tr></thead><tbody><tr><td>1</td><td>&quot;PAYMENT&quot;</td><td>9839.64</td><td>&quot;C1231006815&quot;</td><td>170136.0</td><td>160296.36</td><td>&quot;M1979787155&quot;</td><td>0.0</td><td>0.0</td><td>0</td><td>0</td></tr><tr><td>1</td><td>&quot;PAYMENT&quot;</td><td>1864.28</td><td>&quot;C1666544295&quot;</td><td>21249.0</td><td>19384.72</td><td>&quot;M2044282225&quot;</td><td>0.0</td><td>0.0</td><td>0</td><td>0</td></tr><tr><td>1</td><td>&quot;TRANSFER&quot;</td><td>181.0</td><td>&quot;C1305486145&quot;</td><td>181.0</td><td>0.0</td><td>&quot;C553264065&quot;</td><td>0.0</td><td>0.0</td><td>1</td><td>0</td></tr><tr><td>1</td><td>&quot;CASH_OUT&quot;</td><td>181.0</td><td>&quot;C840083671&quot;</td><td>181.0</td><td>0.0</td><td>&quot;C38997010&quot;</td><td>21182.0</td><td>0.0</td><td>1</td><td>0</td></tr><tr><td>1</td><td>&quot;PAYMENT&quot;</td><td>11668.14</td><td>&quot;C2048537720&quot;</td><td>41554.0</td><td>29885.86</td><td>&quot;M1230701703&quot;</td><td>0.0</td><td>0.0</td><td>0</td><td>0</td></tr></tbody></table></div>"
      ],
      "text/plain": [
       "shape: (5, 11)\n",
       "┌──────┬──────────┬──────────┬─────────────┬───┬────────────────┬────────────────┬─────────┬────────────────┐\n",
       "│ step ┆ type     ┆ amount   ┆ nameOrig    ┆ … ┆ oldbalanceDest ┆ newbalanceDest ┆ isFraud ┆ isFlaggedFraud │\n",
       "│ ---  ┆ ---      ┆ ---      ┆ ---         ┆   ┆ ---            ┆ ---            ┆ ---     ┆ ---            │\n",
       "│ i64  ┆ str      ┆ f64      ┆ str         ┆   ┆ f64            ┆ f64            ┆ i64     ┆ i64            │\n",
       "╞══════╪══════════╪══════════╪═════════════╪═══╪════════════════╪════════════════╪═════════╪════════════════╡\n",
       "│ 1    ┆ PAYMENT  ┆ 9839.64  ┆ C1231006815 ┆ … ┆ 0.0            ┆ 0.0            ┆ 0       ┆ 0              │\n",
       "│ 1    ┆ PAYMENT  ┆ 1864.28  ┆ C1666544295 ┆ … ┆ 0.0            ┆ 0.0            ┆ 0       ┆ 0              │\n",
       "│ 1    ┆ TRANSFER ┆ 181.0    ┆ C1305486145 ┆ … ┆ 0.0            ┆ 0.0            ┆ 1       ┆ 0              │\n",
       "│ 1    ┆ CASH_OUT ┆ 181.0    ┆ C840083671  ┆ … ┆ 21182.0        ┆ 0.0            ┆ 1       ┆ 0              │\n",
       "│ 1    ┆ PAYMENT  ┆ 11668.14 ┆ C2048537720 ┆ … ┆ 0.0            ┆ 0.0            ┆ 0       ┆ 0              │\n",
       "└──────┴──────────┴──────────┴─────────────┴───┴────────────────┴────────────────┴─────────┴────────────────┘"
      ]
     },
     "execution_count": 10,
     "metadata": {},
     "output_type": "execute_result"
    }
   ],
   "source": [
    "from pathlib import Path\n",
    "import polars as pl\n",
    "import seaborn as sns\n",
    "import matplotlib.pyplot as plt\n",
    "\n",
    "data_path = Path('../data/processed/fraud.parquet')\n",
    "df = pl.read_parquet(data_path)\n",
    "df.head()\n"
   ]
  },
  {
   "cell_type": "code",
   "execution_count": 11,
   "metadata": {
    "editable": true,
    "slideshow": {
     "slide_type": ""
    },
    "tags": []
   },
   "outputs": [
    {
     "data": {
      "text/plain": [
       "((6362620, 11),\n",
       " shape: (1, 11)\n",
       " ┌──────┬──────┬────────┬──────────┬───┬────────────────┬────────────────┬─────────┬────────────────┐\n",
       " │ step ┆ type ┆ amount ┆ nameOrig ┆ … ┆ oldbalanceDest ┆ newbalanceDest ┆ isFraud ┆ isFlaggedFraud │\n",
       " │ ---  ┆ ---  ┆ ---    ┆ ---      ┆   ┆ ---            ┆ ---            ┆ ---     ┆ ---            │\n",
       " │ u32  ┆ u32  ┆ u32    ┆ u32      ┆   ┆ u32            ┆ u32            ┆ u32     ┆ u32            │\n",
       " ╞══════╪══════╪════════╪══════════╪═══╪════════════════╪════════════════╪═════════╪════════════════╡\n",
       " │ 0    ┆ 0    ┆ 0      ┆ 0        ┆ … ┆ 0              ┆ 0              ┆ 0       ┆ 0              │\n",
       " └──────┴──────┴────────┴──────────┴───┴────────────────┴────────────────┴─────────┴────────────────┘)"
      ]
     },
     "execution_count": 11,
     "metadata": {},
     "output_type": "execute_result"
    }
   ],
   "source": [
    "df.shape, df.null_count()\n"
   ]
  },
  {
   "cell_type": "code",
   "execution_count": 12,
   "metadata": {},
   "outputs": [
    {
     "data": {
      "text/html": [
       "<div>\n",
       "<style scoped>\n",
       "    .dataframe tbody tr th:only-of-type {\n",
       "        vertical-align: middle;\n",
       "    }\n",
       "\n",
       "    .dataframe tbody tr th {\n",
       "        vertical-align: top;\n",
       "    }\n",
       "\n",
       "    .dataframe thead th {\n",
       "        text-align: right;\n",
       "    }\n",
       "</style>\n",
       "<table border=\"1\" class=\"dataframe\">\n",
       "  <thead>\n",
       "    <tr style=\"text-align: right;\">\n",
       "      <th></th>\n",
       "      <th>isFraud</th>\n",
       "    </tr>\n",
       "  </thead>\n",
       "  <tbody>\n",
       "    <tr>\n",
       "      <th>0</th>\n",
       "      <td>{'isFraud': 1, 'count': 8213}</td>\n",
       "    </tr>\n",
       "    <tr>\n",
       "      <th>1</th>\n",
       "      <td>{'isFraud': 0, 'count': 6354407}</td>\n",
       "    </tr>\n",
       "  </tbody>\n",
       "</table>\n",
       "</div>"
      ],
      "text/plain": [
       "                            isFraud\n",
       "0     {'isFraud': 1, 'count': 8213}\n",
       "1  {'isFraud': 0, 'count': 6354407}"
      ]
     },
     "execution_count": 12,
     "metadata": {},
     "output_type": "execute_result"
    }
   ],
   "source": [
    "# Class balance\n",
    "df.select(pl.col('isFraud').value_counts()).to_pandas()\n"
   ]
  },
  {
   "cell_type": "code",
   "execution_count": 5,
   "metadata": {
    "editable": true,
    "slideshow": {
     "slide_type": ""
    },
    "tags": []
   },
   "outputs": [
    {
     "data": {
      "image/png": "[encoded data removed]",
      "text/plain": [
       "<Figure size 640x480 with 1 Axes>"
      ]
     },
     "metadata": {},
     "output_type": "display_data"
    }
   ],
   "source": [
    "import polars as pl\n",
    "import seaborn as sns\n",
    "import matplotlib.pyplot as plt\n",
    "\n",
    "# --- FIX: Add this line to load your data ---\n",
    "# This reads your data from the file into the 'df' variable\n",
    "df = pl.read_parquet('../data/processed/fraud.parquet')\n",
    "\n",
    "# Your original code will now work\n",
    "# Convert to pandas for seaborn\n",
    "pdf = df.to_pandas()\n",
    "\n",
    "# Create the plot\n",
    "sns.countplot(x='type', data=pdf)\n",
    "plt.title('Distribution of Transaction Types')\n",
    "plt.show()"
   ]
  },
  {
   "cell_type": "code",
   "execution_count": null,
   "metadata": {
    "editable": true,
    "slideshow": {
     "slide_type": ""
    },
    "tags": []
   },
   "outputs": [],
   "source": []
  }
 ],
 "metadata": {
  "kernelspec": {
   "display_name": "Python 3 (ipykernel)",
   "language": "python",
   "name": "python3"
  },
  "language_info": {
   "codemirror_mode": {
    "name": "ipython",
    "version": 3
   },
   "file_extension": ".py",
   "mimetype": "text/x-python",
   "name": "python",
   "nbconvert_exporter": "python",
   "pygments_lexer": "ipython3",
   "version": "3.13.5"
  }
 },
 "nbformat": 4,
 "nbformat_minor": 4
}
